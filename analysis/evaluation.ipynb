{
 "cells": [
  {
   "cell_type": "markdown",
   "id": "e9136645",
   "metadata": {},
   "source": [
    "# MockConf statistics"
   ]
  },
  {
   "cell_type": "code",
   "execution_count": 1,
   "id": "aeeeb8f4",
   "metadata": {},
   "outputs": [],
   "source": [
    "import sys\n",
    "sys.path.append(\"../scripts/\")\n",
    "\n",
    "import os\n",
    "import json\n",
    "import tools\n",
    "import evaluation\n",
    "\n",
    "from constants import DEVSET_FILE_NAMES, TESTSET_FILE_NAMES, DOUBLE_ANNOTATION_FILE_NAME"
   ]
  },
  {
   "cell_type": "markdown",
   "id": "8fba3b0c",
   "metadata": {},
   "source": [
    "# Loading Data"
   ]
  },
  {
   "cell_type": "code",
   "execution_count": 2,
   "id": "1df507dd",
   "metadata": {},
   "outputs": [
    {
     "name": "stdout",
     "output_type": "stream",
     "text": [
      "→ Loading reference data from ../data/alignments/one-annotation/\n",
      "→ Creating random baseline alignments\n",
      "→ Loading BERTAlign sentence alignment from ../outputs/bertalign-sentence-alignment/\n",
      "→ Loading BERTAlign subsegments from ../outputs/bertalign-sentence-alignment-subsegments/\n",
      "→ Loading BERTAlign subsegments + labels from ../outputs/bertalign-sentence-alignment-subsegments-labels-200/\n"
     ]
    }
   ],
   "source": [
    "# Function to load alignments and split them into dev and test sets\n",
    "def load_and_split_alignments(\n",
    "    description: str, path: str, test_files: list[str], dev_files: list[str]\n",
    ") -> tuple[dict, dict]:\n",
    "    print(f\"→ Loading {description} from {path}\")\n",
    "    alignments = tools.read_alignment_files(path)\n",
    "    devset, testset = tools.make_split(test_files, dev_files, alignments)\n",
    "    return devset, testset\n",
    "\n",
    "\n",
    "# === Reference Alignments ===\n",
    "reference_alignments_devset, reference_alignments_testset = load_and_split_alignments(\n",
    "    \"reference data\", \"../data/alignments/one-annotation/\", TESTSET_FILE_NAMES, DEVSET_FILE_NAMES\n",
    ")\n",
    "\n",
    "# === Random Baselines ===\n",
    "print(\"→ Creating random baseline alignments\")\n",
    "random_alignments_testset = tools.create_random_baseline(reference_alignments_testset)\n",
    "random_alignments_devset = tools.create_random_baseline(reference_alignments_devset)\n",
    "\n",
    "# === BERTAlign Full Sentences ===\n",
    "bertalign_alignments_devset, bertalign_alignments_testset = load_and_split_alignments(\n",
    "    \"BERTAlign sentence alignment\", \"../outputs/bertalign-sentence-alignment/\", TESTSET_FILE_NAMES, DEVSET_FILE_NAMES\n",
    ")\n",
    "\n",
    "# === BERTAlign Subsegments ===\n",
    "bertalign_subsegments_alignments_devset, bertalign_subsegments_alignments_testset = load_and_split_alignments(\n",
    "    \"BERTAlign subsegments\", \"../outputs/bertalign-sentence-alignment-subsegments/\", TESTSET_FILE_NAMES, DEVSET_FILE_NAMES\n",
    ")\n",
    "\n",
    "# === BERTAlign Subsegments with Labels ===\n",
    "bertalign_alignments_subsegments_labels_devset, bertalign_alignments_subsegments_labels_testset = load_and_split_alignments(\n",
    "    \"BERTAlign subsegments + labels\", \"../outputs/bertalign-sentence-alignment-subsegments-labels-200/\", TESTSET_FILE_NAMES, DEVSET_FILE_NAMES\n",
    ")\n"
   ]
  },
  {
   "cell_type": "markdown",
   "id": "2dfc5af3",
   "metadata": {},
   "source": [
    "# Final Evaluation"
   ]
  },
  {
   "cell_type": "code",
   "execution_count": 3,
   "id": "c8ded78c",
   "metadata": {},
   "outputs": [],
   "source": [
    "def get_single_alignment(alignment_dict: dict, file_name: str) -> dict:\n",
    "    return {file_name: alignment_dict[file_name]}\n",
    "\n",
    "\n",
    "# Load double annotation data\n",
    "annotation_1_all = tools.read_alignment_files(\"../data/alignments/double-annotation/annotator-1/\")\n",
    "annotation_2_all = tools.read_alignment_files(\"../data/alignments/double-annotation/annotator-2/\")\n",
    "\n",
    "annotation_1 = get_single_alignment(annotation_1_all, DOUBLE_ANNOTATION_FILE_NAME)\n",
    "annotation_2 = get_single_alignment(annotation_2_all, DOUBLE_ANNOTATION_FILE_NAME)\n",
    "\n",
    "# Load system outputs for that file\n",
    "random_alignment = get_single_alignment(random_alignments_devset, DOUBLE_ANNOTATION_FILE_NAME)\n",
    "bertalign_alignment = get_single_alignment(bertalign_alignments_devset, DOUBLE_ANNOTATION_FILE_NAME)\n",
    "bertalign_subsegments_alignment = get_single_alignment(bertalign_subsegments_alignments_devset, DOUBLE_ANNOTATION_FILE_NAME)\n",
    "bertalign_alignments_subsegments_labels_alignment = get_single_alignment(bertalign_alignments_subsegments_labels_devset, DOUBLE_ANNOTATION_FILE_NAME)\n"
   ]
  },
  {
   "cell_type": "code",
   "execution_count": 4,
   "id": "0807cf8d",
   "metadata": {},
   "outputs": [
    {
     "name": "stdout",
     "output_type": "stream",
     "text": [
      "\\parbox[t]{2mm}{\\multirow{8}{*}{\\rotatebox[origin=c]{90}{1 recording}}} & \\BaselineName{}$_2$ & 16.18 & 16.18 & 16.18 & 0.50 & 0.47 & 0.13 & 0.09 & 0.10 & 0.00 & 0.00 & 0.64 & 0.36 & 55.37 & 55.18 & 146 & 124\\\\\n",
      " & \\BaselineName{}$_3$ & 22.79 & 17.51 & 19.81 & 0.52 & 0.47 & 0.11 & 0.08 & 0.09 & 0.00 & 0.00 & 0.63 & 0.36 & 38.74 & 31.28 & 146 & 124\\\\ \\cdashline{2-18}\n",
      " & \\SystemName{}$_2$ & 98.23 & 40.81 & 57.66 & 0.23 & 0.22 & 0.42 & 0.99 & 0.59 & 10.32 & 14.19 & 0.30 & 0.71 & 75.26 & 66.17 & 58 & 53\\\\\n",
      " & \\SystemName{}$_3$ & 99.12 & 31.64 & 47.97 & 0.33 & 0.30 & 0.37 & 1.00 & 0.54 & 2.90 & 10.14 & 0.37 & 0.65 & 49.16 & 34.27 & 58 & 53\\\\ \\cdashline{2-18}\n",
      " & \\SystemSubName{}$_2$ & 85.80 & 53.31 & 65.76 & 0.21 & 0.20 & 0.52 & 0.79 & 0.63 & 15.48 & 18.06 & 0.35 & 0.65 & 75.26 & 66.17 & 89 & 78\\\\\n",
      " & \\SystemSubName{}$_3$ & 83.43 & 39.83 & 53.92 & 0.32 & 0.29 & 0.46 & 0.80 & 0.58 & 4.35 & 11.59 & 0.41 & 0.60 & 49.16 & 34.27 & 89 & 78\\\\ \\cdashline{2-18}\n",
      " & \\SystemLabName{}$_2$ & 85.80 & 53.31 & 65.76 & 0.21 & 0.20 & 0.52 & 0.79 & 0.63 & 16.13 & 18.06 & 0.35 & 0.65 & 71.37 & 69.14 & 89 & 78\\\\\n",
      " & \\SystemLabName{}$_3$ & 83.43 & 39.83 & 53.92 & 0.32 & 0.29 & 0.46 & 0.80 & 0.58 & 4.35 & 11.59 & 0.41 & 0.60 & 46.58 & 37.37 & 89 & 78\\\\ \\cdashline{2-18}\n",
      " & An3$_2$ & 57.34 & 74.63 & 64.86 & 0.28 & 0.24 & 0.79 & 0.69 & 0.73 & 22.58 & 32.90 & 0.29 & 0.70 & 58.00 & 65.17 & 187 & 163\\\\ \\cdashline{2-18}\n",
      " & An2$_3$ & 74.63 & 57.34 & 64.86 & 0.28 & 0.24 & 0.69 & 0.79 & 0.73 & 16.91 & 26.09 & 0.37 & 0.66 & 58.00 & 50.83 & 146 & 124\\\\ \\hline\n",
      "\\parbox[t]{2mm}{\\multirow{4}{*}{\\rotatebox[origin=c]{90}{devset}}} & \\BaselineName{} & 16.92 & 16.86 & 16.89 & 0.49 & 0.45 & 0.07 & 0.05 & 0.06 & 0.13 & 0.26 & 0.67 & 0.34 & 38.87 & 38.99 & 201 & 182\\\\\n",
      " & \\SystemName{} & 97.16 & 34.59 & 51.02 & 0.25 & 0.24 & 0.37 & 0.97 & 0.53 & 6.77 & 11.56 & 0.33 & 0.68 & 58.28 & 44.53 & 71 & 64\\\\\n",
      " & \\SystemSubName{} & 80.34 & 49.64 & 61.36 & 0.23 & 0.21 & 0.51 & 0.72 & 0.59 & 9.71 & 16.26 & 0.39 & 0.62 & 58.24 & 44.54 & 126 & 109\\\\\n",
      " & \\SystemLabName{} & 80.34 & 49.64 & 61.36 & 0.23 & 0.21 & 0.51 & 0.72 & 0.59 & 9.80 & 16.26 & 0.39 & 0.62 & 51.94 & 48.79 & 126 & 109\\\\ \\hline\n",
      "\\parbox[t]{2mm}{\\multirow{4}{*}{\\rotatebox[origin=c]{90}{testset}}} & \\BaselineName{} & 19.46 & 19.35 & 19.40 & 0.51 & 0.45 & 0.08 & 0.06 & 0.07 & 0.18 & 0.27 & 0.71 & 0.31 & 30.28 & 30.09 & 217 & 187\\\\\n",
      " & \\SystemName{} & 95.96 & 29.05 & 44.60 & 0.31 & 0.29 & 0.30 & 0.96 & 0.46 & 4.55 & 10.67 & 0.36 & 0.65 & 46.23 & 30.96 & 63 & 59\\\\\n",
      " & \\SystemSubName{} & 83.30 & 44.23 & 57.78 & 0.27 & 0.24 & 0.46 & 0.75 & 0.57 & 6.97 & 14.56 & 0.41 & 0.60 & 46.20 & 31.02 & 111 & 102\\\\\n",
      " & \\SystemLabName{} & 83.30 & 44.23 & 57.78 & 0.27 & 0.24 & 0.46 & 0.75 & 0.57 & 7.07 & 14.56 & 0.41 & 0.60 & 41.78 & 37.17 & 111 & 102\\\\\n"
     ]
    }
   ],
   "source": [
    "import numpy as np\n",
    "\n",
    "def append_segmentation_rows(table, pairs):\n",
    "    for i, (hyp, ref, _) in enumerate(pairs):\n",
    "        _, precision, recall, f1, wd, pk, _ = evaluation.evaluate_segmentation_boundaries(hyp, ref, aggregate=True)\n",
    "        table[i].extend([precision, recall, f1, wd, pk])\n",
    "    return table\n",
    "\n",
    "def append_span_alignment_rows(table, pairs):\n",
    "    for i, (hyp, ref, system_name) in enumerate(pairs):\n",
    "        table[i].extend(evaluation.evaluate_segmentation_word_pairs(hyp, ref)[:-1])\n",
    "        table[i].append(evaluation.evaluate_exact_match(hyp, ref, with_labels=True))\n",
    "        table[i].append(evaluation.evaluate_exact_match(hyp, ref, with_labels=False))\n",
    "        is_random = r\"\\BaselineName{}\" in system_name\n",
    "        input_path = \"../outputs/word-align-baseline\"\n",
    "        table[i].extend(evaluation.get_word_alignment_eval(hyp, ref, input_path, is_random=is_random))\n",
    "    return table\n",
    "\n",
    "def append_label_match_rows(table, pairs):\n",
    "    for i, (hyp, ref, _) in enumerate(pairs):\n",
    "        acc, _, _, f1, _ = evaluation.evaluate_span_labels(hyp, ref, aggregate=True)\n",
    "        table[i].extend([acc, f1])\n",
    "    return table\n",
    "\n",
    "def append_seg_count(table, pairs):\n",
    "    for i, (alignment, _, _) in enumerate(pairs):\n",
    "        src_counts = [tools.count_segments(doc[\"alignedPairs\"], \"source\") for doc in alignment.values()]\n",
    "        tgt_counts = [tools.count_segments(doc[\"alignedPairs\"], \"target\") for doc in alignment.values()]\n",
    "        table[i].extend([np.mean(src_counts), np.mean(tgt_counts)])\n",
    "    return table\n",
    "\n",
    "def append_all_rows(table, pairs):\n",
    "    append_segmentation_rows(table, pairs)\n",
    "    append_span_alignment_rows(table, pairs)\n",
    "    append_label_match_rows(table, pairs)\n",
    "    append_seg_count(table, pairs)\n",
    "    return table\n",
    "\n",
    "def format_table_row(index, row, system_name):\n",
    "    prefix = \"\"\n",
    "    if index == 0:\n",
    "        prefix = r\"\\parbox[t]{2mm}{\\multirow{8}{*}{\\rotatebox[origin=c]{90}{1 recording}}}\"\n",
    "    elif index == 10:\n",
    "        prefix = r\"\\parbox[t]{2mm}{\\multirow{4}{*}{\\rotatebox[origin=c]{90}{devset}}}\"\n",
    "    elif index == 14:\n",
    "        prefix = r\"\\parbox[t]{2mm}{\\multirow{4}{*}{\\rotatebox[origin=c]{90}{testset}}}\"\n",
    "\n",
    "    suffix = r\"\\\\\"\n",
    "    if index in [1, 3, 5, 7, 8]:\n",
    "        suffix = r\"\\\\ \\cdashline{2-18}\"\n",
    "    elif index in [9, 13]:\n",
    "        suffix = r\"\\\\ \\hline\"\n",
    "\n",
    "    formatted_values = \" & \".join(f\"{val:.2f}\" for val in row[:-2])\n",
    "    segment_counts = \" & \".join(f\"{val:.0f}\" for val in row[-2:])\n",
    "    return f\"{prefix} & {system_name} & {formatted_values} & {segment_counts}{suffix}\"\n",
    "\n",
    "# Prepare evaluation input\n",
    "pairs = [\n",
    "    (random_alignment, annotation_1, r\"\\BaselineName{}$_2$\"),\n",
    "    (random_alignment, annotation_2, r\"\\BaselineName{}$_3$\"),\n",
    "    (bertalign_alignment, annotation_1, r\"\\SystemName{}$_2$\"),\n",
    "    (bertalign_alignment, annotation_2, r\"\\SystemName{}$_3$\"),\n",
    "    (bertalign_subsegments_alignment, annotation_1, r\"\\SystemSubName{}$_2$\"),\n",
    "    (bertalign_subsegments_alignment, annotation_2, r\"\\SystemSubName{}$_3$\"),\n",
    "    (bertalign_alignments_subsegments_labels_alignment, annotation_1, r\"\\SystemLabName{}$_2$\"),\n",
    "    (bertalign_alignments_subsegments_labels_alignment, annotation_2, r\"\\SystemLabName{}$_3$\"),\n",
    "    (annotation_2, annotation_1, \"An3$_2$\"),\n",
    "    (annotation_1, annotation_2, \"An2$_3$\"),\n",
    "    (random_alignments_devset, reference_alignments_devset, r\"\\BaselineName{}\"),\n",
    "    (bertalign_alignments_devset, reference_alignments_devset, r\"\\SystemName{}\"),\n",
    "    (bertalign_subsegments_alignments_devset, reference_alignments_devset, r\"\\SystemSubName{}\"),\n",
    "    (bertalign_alignments_subsegments_labels_devset, reference_alignments_devset, r\"\\SystemLabName{}\"),\n",
    "    (random_alignments_testset, reference_alignments_testset, r\"\\BaselineName{}\"),\n",
    "    (bertalign_alignments_testset, reference_alignments_testset, r\"\\SystemName{}\"),\n",
    "    (bertalign_subsegments_alignments_testset, reference_alignments_testset, r\"\\SystemSubName{}\"),\n",
    "    (bertalign_alignments_subsegments_labels_testset, reference_alignments_testset, r\"\\SystemLabName{}\"),\n",
    "]\n",
    "\n",
    "# Run all evaluations\n",
    "table = [[] for _ in range(len(pairs))]\n",
    "table = append_all_rows(table, pairs)\n",
    "\n",
    "# Print formatted LaTeX table rows\n",
    "for i, row in enumerate(table):\n",
    "    print(format_table_row(i, row, pairs[i][2]))\n"
   ]
  }
 ],
 "metadata": {
  "kernelspec": {
   "display_name": "env3.9.7",
   "language": "python",
   "name": "python3"
  },
  "language_info": {
   "codemirror_mode": {
    "name": "ipython",
    "version": 3
   },
   "file_extension": ".py",
   "mimetype": "text/x-python",
   "name": "python",
   "nbconvert_exporter": "python",
   "pygments_lexer": "ipython3",
   "version": "3.9.7"
  }
 },
 "nbformat": 4,
 "nbformat_minor": 5
}
